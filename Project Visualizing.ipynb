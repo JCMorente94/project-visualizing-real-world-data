{
 "cells": [
  {
   "cell_type": "markdown",
   "metadata": {},
   "source": [
    "# Libraries"
   ]
  },
  {
   "cell_type": "code",
   "execution_count": 1,
   "metadata": {
    "ExecuteTime": {
     "end_time": "2020-03-06T17:35:57.138426Z",
     "start_time": "2020-03-06T17:35:53.999904Z"
    }
   },
   "outputs": [],
   "source": [
    "import pandas as pd\n",
    "import numpy as np"
   ]
  },
  {
   "cell_type": "markdown",
   "metadata": {},
   "source": [
    "# Data Set Match Scores"
   ]
  },
  {
   "cell_type": "code",
   "execution_count": 2,
   "metadata": {
    "ExecuteTime": {
     "end_time": "2020-03-06T17:35:57.444736Z",
     "start_time": "2020-03-06T17:35:57.141420Z"
    }
   },
   "outputs": [],
   "source": [
    "match_scores = pd.read_csv('match_scores_2017_unindexed_csv.csv')"
   ]
  },
  {
   "cell_type": "code",
   "execution_count": 4,
   "metadata": {
    "ExecuteTime": {
     "end_time": "2020-03-06T17:35:57.557714Z",
     "start_time": "2020-03-06T17:35:57.473660Z"
    }
   },
   "outputs": [
    {
     "name": "stdout",
     "output_type": "stream",
     "text": [
      "<class 'pandas.core.frame.DataFrame'>\n",
      "RangeIndex: 3830 entries, 0 to 3829\n",
      "Data columns (total 24 columns):\n",
      "tourney_year_id           3830 non-null object\n",
      "tourney_order             3830 non-null int64\n",
      "tourney_slug              3830 non-null object\n",
      "tourney_url_suffix        3830 non-null object\n",
      "tourney_round_name        3830 non-null object\n",
      "round_order               3830 non-null int64\n",
      "match_order               3830 non-null int64\n",
      "winner_name               3830 non-null object\n",
      "winner_player_id          3830 non-null object\n",
      "winner_slug               3830 non-null object\n",
      "loser_name                3830 non-null object\n",
      "loser_player_id           3830 non-null object\n",
      "loser_slug                3830 non-null object\n",
      "winner_seed               2480 non-null object\n",
      "loser_seed                2066 non-null object\n",
      "match_score_tiebreaks     3830 non-null object\n",
      "winner_sets_won           3830 non-null int64\n",
      "loser_sets_won            3830 non-null int64\n",
      "winner_games_won          3830 non-null int64\n",
      "loser_games_won           3830 non-null int64\n",
      "winner_tiebreaks_won      3830 non-null int64\n",
      "loser_tiebreaks_won       3830 non-null int64\n",
      "match_id                  3830 non-null object\n",
      "match_stats_url_suffix    3684 non-null object\n",
      "dtypes: int64(9), object(15)\n",
      "memory usage: 718.2+ KB\n"
     ]
    }
   ],
   "source": [
    "match_scores.info()"
   ]
  },
  {
   "cell_type": "code",
   "execution_count": 6,
   "metadata": {
    "ExecuteTime": {
     "end_time": "2020-03-06T17:35:57.785923Z",
     "start_time": "2020-03-06T17:35:57.700774Z"
    }
   },
   "outputs": [
    {
     "data": {
      "text/html": [
       "<div>\n",
       "<style scoped>\n",
       "    .dataframe tbody tr th:only-of-type {\n",
       "        vertical-align: middle;\n",
       "    }\n",
       "\n",
       "    .dataframe tbody tr th {\n",
       "        vertical-align: top;\n",
       "    }\n",
       "\n",
       "    .dataframe thead th {\n",
       "        text-align: right;\n",
       "    }\n",
       "</style>\n",
       "<table border=\"1\" class=\"dataframe\">\n",
       "  <thead>\n",
       "    <tr style=\"text-align: right;\">\n",
       "      <th></th>\n",
       "      <th>tourney_year_id</th>\n",
       "      <th>tourney_order</th>\n",
       "      <th>tourney_slug</th>\n",
       "      <th>tourney_url_suffix</th>\n",
       "      <th>tourney_round_name</th>\n",
       "      <th>round_order</th>\n",
       "      <th>match_order</th>\n",
       "      <th>winner_name</th>\n",
       "      <th>winner_player_id</th>\n",
       "      <th>winner_slug</th>\n",
       "      <th>...</th>\n",
       "      <th>loser_seed</th>\n",
       "      <th>match_score_tiebreaks</th>\n",
       "      <th>winner_sets_won</th>\n",
       "      <th>loser_sets_won</th>\n",
       "      <th>winner_games_won</th>\n",
       "      <th>loser_games_won</th>\n",
       "      <th>winner_tiebreaks_won</th>\n",
       "      <th>loser_tiebreaks_won</th>\n",
       "      <th>match_id</th>\n",
       "      <th>match_stats_url_suffix</th>\n",
       "    </tr>\n",
       "  </thead>\n",
       "  <tbody>\n",
       "    <tr>\n",
       "      <td>0</td>\n",
       "      <td>2017-339</td>\n",
       "      <td>1</td>\n",
       "      <td>brisbane</td>\n",
       "      <td>/en/scores/archive/brisbane/339/2017/results</td>\n",
       "      <td>Finals</td>\n",
       "      <td>1</td>\n",
       "      <td>1</td>\n",
       "      <td>Grigor Dimitrov</td>\n",
       "      <td>d875</td>\n",
       "      <td>grigor-dimitrov</td>\n",
       "      <td>...</td>\n",
       "      <td>3</td>\n",
       "      <td>62 26 63</td>\n",
       "      <td>2</td>\n",
       "      <td>1</td>\n",
       "      <td>14</td>\n",
       "      <td>11</td>\n",
       "      <td>0</td>\n",
       "      <td>0</td>\n",
       "      <td>2017-339-d875-n552</td>\n",
       "      <td>/en/scores/2017/339/MS001/match-stats</td>\n",
       "    </tr>\n",
       "    <tr>\n",
       "      <td>1</td>\n",
       "      <td>2017-339</td>\n",
       "      <td>1</td>\n",
       "      <td>brisbane</td>\n",
       "      <td>/en/scores/archive/brisbane/339/2017/results</td>\n",
       "      <td>Semi-Finals</td>\n",
       "      <td>2</td>\n",
       "      <td>1</td>\n",
       "      <td>Grigor Dimitrov</td>\n",
       "      <td>d875</td>\n",
       "      <td>grigor-dimitrov</td>\n",
       "      <td>...</td>\n",
       "      <td>1</td>\n",
       "      <td>76(7) 62</td>\n",
       "      <td>2</td>\n",
       "      <td>0</td>\n",
       "      <td>13</td>\n",
       "      <td>8</td>\n",
       "      <td>1</td>\n",
       "      <td>0</td>\n",
       "      <td>2017-339-d875-r975</td>\n",
       "      <td>/en/scores/2017/339/MS002/match-stats</td>\n",
       "    </tr>\n",
       "    <tr>\n",
       "      <td>2</td>\n",
       "      <td>2017-339</td>\n",
       "      <td>1</td>\n",
       "      <td>brisbane</td>\n",
       "      <td>/en/scores/archive/brisbane/339/2017/results</td>\n",
       "      <td>Semi-Finals</td>\n",
       "      <td>2</td>\n",
       "      <td>2</td>\n",
       "      <td>Kei Nishikori</td>\n",
       "      <td>n552</td>\n",
       "      <td>kei-nishikori</td>\n",
       "      <td>...</td>\n",
       "      <td>2</td>\n",
       "      <td>76(3) 63</td>\n",
       "      <td>2</td>\n",
       "      <td>0</td>\n",
       "      <td>13</td>\n",
       "      <td>9</td>\n",
       "      <td>1</td>\n",
       "      <td>0</td>\n",
       "      <td>2017-339-n552-w367</td>\n",
       "      <td>/en/scores/2017/339/MS003/match-stats</td>\n",
       "    </tr>\n",
       "    <tr>\n",
       "      <td>3</td>\n",
       "      <td>2017-339</td>\n",
       "      <td>1</td>\n",
       "      <td>brisbane</td>\n",
       "      <td>/en/scores/archive/brisbane/339/2017/results</td>\n",
       "      <td>Quarter-Finals</td>\n",
       "      <td>3</td>\n",
       "      <td>1</td>\n",
       "      <td>Milos Raonic</td>\n",
       "      <td>r975</td>\n",
       "      <td>milos-raonic</td>\n",
       "      <td>...</td>\n",
       "      <td>5</td>\n",
       "      <td>46 63 64</td>\n",
       "      <td>2</td>\n",
       "      <td>1</td>\n",
       "      <td>16</td>\n",
       "      <td>13</td>\n",
       "      <td>0</td>\n",
       "      <td>0</td>\n",
       "      <td>2017-339-r975-n409</td>\n",
       "      <td>/en/scores/2017/339/MS004/match-stats</td>\n",
       "    </tr>\n",
       "    <tr>\n",
       "      <td>4</td>\n",
       "      <td>2017-339</td>\n",
       "      <td>1</td>\n",
       "      <td>brisbane</td>\n",
       "      <td>/en/scores/archive/brisbane/339/2017/results</td>\n",
       "      <td>Quarter-Finals</td>\n",
       "      <td>3</td>\n",
       "      <td>2</td>\n",
       "      <td>Stan Wawrinka</td>\n",
       "      <td>w367</td>\n",
       "      <td>stan-wawrinka</td>\n",
       "      <td>...</td>\n",
       "      <td>NaN</td>\n",
       "      <td>67(2) 64 64</td>\n",
       "      <td>2</td>\n",
       "      <td>1</td>\n",
       "      <td>18</td>\n",
       "      <td>15</td>\n",
       "      <td>0</td>\n",
       "      <td>1</td>\n",
       "      <td>2017-339-w367-e831</td>\n",
       "      <td>/en/scores/2017/339/MS007/match-stats</td>\n",
       "    </tr>\n",
       "  </tbody>\n",
       "</table>\n",
       "<p>5 rows × 24 columns</p>\n",
       "</div>"
      ],
      "text/plain": [
       "  tourney_year_id  tourney_order tourney_slug  \\\n",
       "0        2017-339              1     brisbane   \n",
       "1        2017-339              1     brisbane   \n",
       "2        2017-339              1     brisbane   \n",
       "3        2017-339              1     brisbane   \n",
       "4        2017-339              1     brisbane   \n",
       "\n",
       "                             tourney_url_suffix tourney_round_name  \\\n",
       "0  /en/scores/archive/brisbane/339/2017/results             Finals   \n",
       "1  /en/scores/archive/brisbane/339/2017/results        Semi-Finals   \n",
       "2  /en/scores/archive/brisbane/339/2017/results        Semi-Finals   \n",
       "3  /en/scores/archive/brisbane/339/2017/results     Quarter-Finals   \n",
       "4  /en/scores/archive/brisbane/339/2017/results     Quarter-Finals   \n",
       "\n",
       "   round_order  match_order      winner_name winner_player_id  \\\n",
       "0            1            1  Grigor Dimitrov             d875   \n",
       "1            2            1  Grigor Dimitrov             d875   \n",
       "2            2            2    Kei Nishikori             n552   \n",
       "3            3            1     Milos Raonic             r975   \n",
       "4            3            2    Stan Wawrinka             w367   \n",
       "\n",
       "       winner_slug  ... loser_seed match_score_tiebreaks winner_sets_won  \\\n",
       "0  grigor-dimitrov  ...          3              62 26 63               2   \n",
       "1  grigor-dimitrov  ...          1              76(7) 62               2   \n",
       "2    kei-nishikori  ...          2              76(3) 63               2   \n",
       "3     milos-raonic  ...          5              46 63 64               2   \n",
       "4    stan-wawrinka  ...        NaN           67(2) 64 64               2   \n",
       "\n",
       "  loser_sets_won winner_games_won loser_games_won  winner_tiebreaks_won  \\\n",
       "0              1               14              11                     0   \n",
       "1              0               13               8                     1   \n",
       "2              0               13               9                     1   \n",
       "3              1               16              13                     0   \n",
       "4              1               18              15                     0   \n",
       "\n",
       "   loser_tiebreaks_won            match_id  \\\n",
       "0                    0  2017-339-d875-n552   \n",
       "1                    0  2017-339-d875-r975   \n",
       "2                    0  2017-339-n552-w367   \n",
       "3                    0  2017-339-r975-n409   \n",
       "4                    1  2017-339-w367-e831   \n",
       "\n",
       "                  match_stats_url_suffix  \n",
       "0  /en/scores/2017/339/MS001/match-stats  \n",
       "1  /en/scores/2017/339/MS002/match-stats  \n",
       "2  /en/scores/2017/339/MS003/match-stats  \n",
       "3  /en/scores/2017/339/MS004/match-stats  \n",
       "4  /en/scores/2017/339/MS007/match-stats  \n",
       "\n",
       "[5 rows x 24 columns]"
      ]
     },
     "execution_count": 6,
     "metadata": {},
     "output_type": "execute_result"
    }
   ],
   "source": [
    "match_scores.head()"
   ]
  },
  {
   "cell_type": "code",
   "execution_count": 7,
   "metadata": {
    "ExecuteTime": {
     "end_time": "2020-03-06T17:42:24.049631Z",
     "start_time": "2020-03-06T17:42:24.040655Z"
    }
   },
   "outputs": [
    {
     "data": {
      "text/plain": [
       "Index(['tourney_year_id', 'tourney_order', 'tourney_slug',\n",
       "       'tourney_url_suffix', 'tourney_round_name', 'round_order',\n",
       "       'match_order', 'winner_name', 'winner_player_id', 'winner_slug',\n",
       "       'loser_name', 'loser_player_id', 'loser_slug', 'winner_seed',\n",
       "       'loser_seed', 'match_score_tiebreaks', 'winner_sets_won',\n",
       "       'loser_sets_won', 'winner_games_won', 'loser_games_won',\n",
       "       'winner_tiebreaks_won', 'loser_tiebreaks_won', 'match_id',\n",
       "       'match_stats_url_suffix'],\n",
       "      dtype='object')"
      ]
     },
     "execution_count": 7,
     "metadata": {},
     "output_type": "execute_result"
    }
   ],
   "source": [
    "match_scores.columns"
   ]
  },
  {
   "cell_type": "code",
   "execution_count": 38,
   "metadata": {
    "ExecuteTime": {
     "end_time": "2020-03-06T18:38:14.263215Z",
     "start_time": "2020-03-06T18:38:14.252243Z"
    }
   },
   "outputs": [
    {
     "data": {
      "text/plain": [
       "tourney_year_id                                               2017-339\n",
       "tourney_order                                                        1\n",
       "tourney_slug                                                  brisbane\n",
       "tourney_url_suffix        /en/scores/archive/brisbane/339/2017/results\n",
       "tourney_round_name                                         Round of 32\n",
       "round_order                                                          5\n",
       "match_order                                                          1\n",
       "winner_name                                               Rafael Nadal\n",
       "winner_player_id                                                  n409\n",
       "winner_slug                                               rafael-nadal\n",
       "loser_name                                         Alexandr Dolgopolov\n",
       "loser_player_id                                                   d801\n",
       "loser_slug                                         alexandr-dolgopolov\n",
       "winner_seed                                                          5\n",
       "loser_seed                                                         NaN\n",
       "match_score_tiebreaks                                            63 63\n",
       "winner_sets_won                                                      2\n",
       "loser_sets_won                                                       0\n",
       "winner_games_won                                                    12\n",
       "loser_games_won                                                      6\n",
       "winner_tiebreaks_won                                                 0\n",
       "loser_tiebreaks_won                                                  0\n",
       "match_id                                            2017-339-n409-d801\n",
       "match_stats_url_suffix           /en/scores/2017/339/MS019/match-stats\n",
       "Name: 15, dtype: object"
      ]
     },
     "execution_count": 38,
     "metadata": {},
     "output_type": "execute_result"
    }
   ],
   "source": [
    "match_scores.loc[15]"
   ]
  },
  {
   "cell_type": "code",
   "execution_count": 11,
   "metadata": {
    "ExecuteTime": {
     "end_time": "2020-03-06T17:55:23.149065Z",
     "start_time": "2020-03-06T17:55:23.136100Z"
    }
   },
   "outputs": [
    {
     "data": {
      "text/plain": [
       "Rafael Nadal                   67\n",
       "Alexander Zverev               53\n",
       "David Goffin                   50\n",
       "Roger Federer                  50\n",
       "Roberto Bautista Agut          46\n",
       "                               ..\n",
       "Marcelo Arevalo                 1\n",
       "Ivan Nedelko                    1\n",
       "Alejandro Davidovich Fokina     1\n",
       "William Blumberg                1\n",
       "Dmitry Popko                    1\n",
       "Name: winner_name, Length: 340, dtype: int64"
      ]
     },
     "execution_count": 11,
     "metadata": {},
     "output_type": "execute_result"
    }
   ],
   "source": [
    "match_scores.winner_name.value_counts()"
   ]
  },
  {
   "cell_type": "code",
   "execution_count": 12,
   "metadata": {
    "ExecuteTime": {
     "end_time": "2020-03-06T17:58:58.765615Z",
     "start_time": "2020-03-06T17:58:58.750653Z"
    }
   },
   "outputs": [
    {
     "data": {
      "text/plain": [
       "Nikoloz Basilashvili    32\n",
       "Paolo Lorenzi           32\n",
       "Mischa Zverev           31\n",
       "Benoit Paire            31\n",
       "Joao Sousa              30\n",
       "                        ..\n",
       "Takuto Niki              1\n",
       "Amir Weintraub           1\n",
       "Facundo Mena             1\n",
       "Mate Pavic               1\n",
       "Ayoub Chakrouni          1\n",
       "Name: loser_name, Length: 536, dtype: int64"
      ]
     },
     "execution_count": 12,
     "metadata": {},
     "output_type": "execute_result"
    }
   ],
   "source": [
    "match_scores.loser_name.value_counts()"
   ]
  },
  {
   "cell_type": "code",
   "execution_count": 19,
   "metadata": {
    "ExecuteTime": {
     "end_time": "2020-03-06T18:01:18.548154Z",
     "start_time": "2020-03-06T18:01:18.537182Z"
    }
   },
   "outputs": [
    {
     "data": {
      "text/plain": [
       "roland-garros      7\n",
       "us-open            7\n",
       "australian-open    6\n",
       "barcelona          5\n",
       "miami              5\n",
       "madrid             5\n",
       "beijing            5\n",
       "monte-carlo        5\n",
       "shanghai           4\n",
       "acapulco           4\n",
       "wimbledon          3\n",
       "brisbane           2\n",
       "rome               2\n",
       "cincinnati         2\n",
       "indian-wells       2\n",
       "paris              2\n",
       "montreal           1\n",
       "Name: tourney_slug, dtype: int64"
      ]
     },
     "execution_count": 19,
     "metadata": {},
     "output_type": "execute_result"
    }
   ],
   "source": [
    "match_scores[match_scores['winner_name'] == 'Rafael Nadal']['tourney_slug'].value_counts()"
   ]
  },
  {
   "cell_type": "markdown",
   "metadata": {},
   "source": [
    "# DataSet Match Stats "
   ]
  },
  {
   "cell_type": "code",
   "execution_count": 32,
   "metadata": {
    "ExecuteTime": {
     "end_time": "2020-03-06T18:15:09.759075Z",
     "start_time": "2020-03-06T18:15:09.697239Z"
    }
   },
   "outputs": [],
   "source": [
    "match_stats = pd.read_csv('match_stats_2017_unindexed_csv.csv')"
   ]
  },
  {
   "cell_type": "code",
   "execution_count": 33,
   "metadata": {
    "ExecuteTime": {
     "end_time": "2020-03-06T18:15:21.111476Z",
     "start_time": "2020-03-06T18:15:21.093484Z"
    }
   },
   "outputs": [
    {
     "name": "stdout",
     "output_type": "stream",
     "text": [
      "<class 'pandas.core.frame.DataFrame'>\n",
      "RangeIndex: 3811 entries, 0 to 3810\n",
      "Data columns (total 53 columns):\n",
      "tourney_order                       3811 non-null int64\n",
      "match_id                            3811 non-null object\n",
      "match_stats_url_suffix              3811 non-null object\n",
      "match_time                          3811 non-null object\n",
      "match_duration                      3811 non-null int64\n",
      "winner_aces                         3811 non-null int64\n",
      "winner_double_faults                3811 non-null int64\n",
      "winner_first_serves_in              3811 non-null int64\n",
      "winner_first_serves_total           3811 non-null int64\n",
      "winner_first_serve_points_won       3811 non-null int64\n",
      "winner_first_serve_points_total     3811 non-null int64\n",
      "winner_second_serve_points_won      3811 non-null int64\n",
      "winner_second_serve_points_total    3811 non-null int64\n",
      "winner_break_points_saved           3811 non-null int64\n",
      "winner_break_points_serve_total     3811 non-null int64\n",
      "winner_service_points_won           3811 non-null int64\n",
      "winner_service_points_total         3811 non-null int64\n",
      "winner_first_serve_return_won       3811 non-null int64\n",
      "winner_first_serve_return_total     3811 non-null int64\n",
      "winner_second_serve_return_won      3811 non-null int64\n",
      "winner_second_serve_return_total    3811 non-null int64\n",
      "winner_break_points_converted       3811 non-null int64\n",
      "winner_break_points_return_total    3811 non-null int64\n",
      "winner_service_games_played         3811 non-null int64\n",
      "winner_return_games_played          3811 non-null int64\n",
      "winner_return_points_won            3811 non-null int64\n",
      "winner_return_points_total          3811 non-null int64\n",
      "winner_total_points_won             3811 non-null int64\n",
      "winner_total_points_total           3811 non-null int64\n",
      "loser_aces                          3811 non-null int64\n",
      "loser_double_faults                 3811 non-null int64\n",
      "loser_first_serves_in               3811 non-null int64\n",
      "loser_first_serves_total            3811 non-null int64\n",
      "loser_first_serve_points_won        3811 non-null int64\n",
      "loser_first_serve_points_total      3811 non-null int64\n",
      "loser_second_serve_points_won       3811 non-null int64\n",
      "loser_second_serve_points_total     3811 non-null int64\n",
      "loser_break_points_saved            3811 non-null int64\n",
      "loser_break_points_serve_total      3811 non-null int64\n",
      "loser_service_points_won            3811 non-null int64\n",
      "loser_service_points_total          3811 non-null int64\n",
      "loser_first_serve_return_won        3811 non-null int64\n",
      "loser_first_serve_return_total      3811 non-null int64\n",
      "loser_second_serve_return_won       3811 non-null int64\n",
      "loser_second_serve_return_total     3811 non-null int64\n",
      "loser_break_points_converted        3811 non-null int64\n",
      "loser_break_points_return_total     3811 non-null int64\n",
      "loser_service_games_played          3811 non-null int64\n",
      "loser_return_games_played           3811 non-null int64\n",
      "loser_return_points_won             3811 non-null int64\n",
      "loser_return_points_total           3811 non-null int64\n",
      "loser_total_points_won              3811 non-null int64\n",
      "loser_total_points_total            3811 non-null int64\n",
      "dtypes: int64(50), object(3)\n",
      "memory usage: 1.5+ MB\n"
     ]
    }
   ],
   "source": [
    "match_stats.info()"
   ]
  },
  {
   "cell_type": "code",
   "execution_count": 34,
   "metadata": {
    "ExecuteTime": {
     "end_time": "2020-03-06T18:15:29.843257Z",
     "start_time": "2020-03-06T18:15:29.815329Z"
    }
   },
   "outputs": [
    {
     "data": {
      "text/html": [
       "<div>\n",
       "<style scoped>\n",
       "    .dataframe tbody tr th:only-of-type {\n",
       "        vertical-align: middle;\n",
       "    }\n",
       "\n",
       "    .dataframe tbody tr th {\n",
       "        vertical-align: top;\n",
       "    }\n",
       "\n",
       "    .dataframe thead th {\n",
       "        text-align: right;\n",
       "    }\n",
       "</style>\n",
       "<table border=\"1\" class=\"dataframe\">\n",
       "  <thead>\n",
       "    <tr style=\"text-align: right;\">\n",
       "      <th></th>\n",
       "      <th>tourney_order</th>\n",
       "      <th>match_id</th>\n",
       "      <th>match_stats_url_suffix</th>\n",
       "      <th>match_time</th>\n",
       "      <th>match_duration</th>\n",
       "      <th>winner_aces</th>\n",
       "      <th>winner_double_faults</th>\n",
       "      <th>winner_first_serves_in</th>\n",
       "      <th>winner_first_serves_total</th>\n",
       "      <th>winner_first_serve_points_won</th>\n",
       "      <th>...</th>\n",
       "      <th>loser_second_serve_return_won</th>\n",
       "      <th>loser_second_serve_return_total</th>\n",
       "      <th>loser_break_points_converted</th>\n",
       "      <th>loser_break_points_return_total</th>\n",
       "      <th>loser_service_games_played</th>\n",
       "      <th>loser_return_games_played</th>\n",
       "      <th>loser_return_points_won</th>\n",
       "      <th>loser_return_points_total</th>\n",
       "      <th>loser_total_points_won</th>\n",
       "      <th>loser_total_points_total</th>\n",
       "    </tr>\n",
       "  </thead>\n",
       "  <tbody>\n",
       "    <tr>\n",
       "      <td>0</td>\n",
       "      <td>0</td>\n",
       "      <td>2017-339-r975-n409</td>\n",
       "      <td>/en/scores/2017/339/MS004/match-stats</td>\n",
       "      <td>02:21:00</td>\n",
       "      <td>141</td>\n",
       "      <td>23</td>\n",
       "      <td>3</td>\n",
       "      <td>62</td>\n",
       "      <td>97</td>\n",
       "      <td>50</td>\n",
       "      <td>...</td>\n",
       "      <td>19</td>\n",
       "      <td>35</td>\n",
       "      <td>1</td>\n",
       "      <td>7</td>\n",
       "      <td>14</td>\n",
       "      <td>15</td>\n",
       "      <td>31</td>\n",
       "      <td>97</td>\n",
       "      <td>84</td>\n",
       "      <td>181</td>\n",
       "    </tr>\n",
       "    <tr>\n",
       "      <td>1</td>\n",
       "      <td>0</td>\n",
       "      <td>2017-339-d875-n552</td>\n",
       "      <td>/en/scores/2017/339/MS001/match-stats</td>\n",
       "      <td>01:49:00</td>\n",
       "      <td>109</td>\n",
       "      <td>7</td>\n",
       "      <td>2</td>\n",
       "      <td>52</td>\n",
       "      <td>77</td>\n",
       "      <td>41</td>\n",
       "      <td>...</td>\n",
       "      <td>13</td>\n",
       "      <td>25</td>\n",
       "      <td>2</td>\n",
       "      <td>7</td>\n",
       "      <td>12</td>\n",
       "      <td>13</td>\n",
       "      <td>24</td>\n",
       "      <td>77</td>\n",
       "      <td>69</td>\n",
       "      <td>146</td>\n",
       "    </tr>\n",
       "    <tr>\n",
       "      <td>2</td>\n",
       "      <td>0</td>\n",
       "      <td>2017-339-d875-r975</td>\n",
       "      <td>/en/scores/2017/339/MS002/match-stats</td>\n",
       "      <td>01:28:00</td>\n",
       "      <td>88</td>\n",
       "      <td>4</td>\n",
       "      <td>1</td>\n",
       "      <td>36</td>\n",
       "      <td>58</td>\n",
       "      <td>27</td>\n",
       "      <td>...</td>\n",
       "      <td>4</td>\n",
       "      <td>22</td>\n",
       "      <td>0</td>\n",
       "      <td>0</td>\n",
       "      <td>10</td>\n",
       "      <td>10</td>\n",
       "      <td>13</td>\n",
       "      <td>58</td>\n",
       "      <td>53</td>\n",
       "      <td>119</td>\n",
       "    </tr>\n",
       "    <tr>\n",
       "      <td>3</td>\n",
       "      <td>0</td>\n",
       "      <td>2017-339-n552-w367</td>\n",
       "      <td>/en/scores/2017/339/MS003/match-stats</td>\n",
       "      <td>01:42:00</td>\n",
       "      <td>102</td>\n",
       "      <td>1</td>\n",
       "      <td>1</td>\n",
       "      <td>56</td>\n",
       "      <td>77</td>\n",
       "      <td>37</td>\n",
       "      <td>...</td>\n",
       "      <td>7</td>\n",
       "      <td>21</td>\n",
       "      <td>1</td>\n",
       "      <td>5</td>\n",
       "      <td>10</td>\n",
       "      <td>11</td>\n",
       "      <td>26</td>\n",
       "      <td>77</td>\n",
       "      <td>63</td>\n",
       "      <td>138</td>\n",
       "    </tr>\n",
       "    <tr>\n",
       "      <td>4</td>\n",
       "      <td>0</td>\n",
       "      <td>2017-339-d875-tb69</td>\n",
       "      <td>/en/scores/2017/339/MS005/match-stats</td>\n",
       "      <td>02:05:00</td>\n",
       "      <td>125</td>\n",
       "      <td>3</td>\n",
       "      <td>3</td>\n",
       "      <td>52</td>\n",
       "      <td>94</td>\n",
       "      <td>42</td>\n",
       "      <td>...</td>\n",
       "      <td>19</td>\n",
       "      <td>42</td>\n",
       "      <td>1</td>\n",
       "      <td>14</td>\n",
       "      <td>14</td>\n",
       "      <td>14</td>\n",
       "      <td>29</td>\n",
       "      <td>94</td>\n",
       "      <td>82</td>\n",
       "      <td>176</td>\n",
       "    </tr>\n",
       "  </tbody>\n",
       "</table>\n",
       "<p>5 rows × 53 columns</p>\n",
       "</div>"
      ],
      "text/plain": [
       "   tourney_order            match_id                 match_stats_url_suffix  \\\n",
       "0              0  2017-339-r975-n409  /en/scores/2017/339/MS004/match-stats   \n",
       "1              0  2017-339-d875-n552  /en/scores/2017/339/MS001/match-stats   \n",
       "2              0  2017-339-d875-r975  /en/scores/2017/339/MS002/match-stats   \n",
       "3              0  2017-339-n552-w367  /en/scores/2017/339/MS003/match-stats   \n",
       "4              0  2017-339-d875-tb69  /en/scores/2017/339/MS005/match-stats   \n",
       "\n",
       "  match_time  match_duration  winner_aces  winner_double_faults  \\\n",
       "0   02:21:00             141           23                     3   \n",
       "1   01:49:00             109            7                     2   \n",
       "2   01:28:00              88            4                     1   \n",
       "3   01:42:00             102            1                     1   \n",
       "4   02:05:00             125            3                     3   \n",
       "\n",
       "   winner_first_serves_in  winner_first_serves_total  \\\n",
       "0                      62                         97   \n",
       "1                      52                         77   \n",
       "2                      36                         58   \n",
       "3                      56                         77   \n",
       "4                      52                         94   \n",
       "\n",
       "   winner_first_serve_points_won  ...  loser_second_serve_return_won  \\\n",
       "0                             50  ...                             19   \n",
       "1                             41  ...                             13   \n",
       "2                             27  ...                              4   \n",
       "3                             37  ...                              7   \n",
       "4                             42  ...                             19   \n",
       "\n",
       "   loser_second_serve_return_total  loser_break_points_converted  \\\n",
       "0                               35                             1   \n",
       "1                               25                             2   \n",
       "2                               22                             0   \n",
       "3                               21                             1   \n",
       "4                               42                             1   \n",
       "\n",
       "   loser_break_points_return_total  loser_service_games_played  \\\n",
       "0                                7                          14   \n",
       "1                                7                          12   \n",
       "2                                0                          10   \n",
       "3                                5                          10   \n",
       "4                               14                          14   \n",
       "\n",
       "   loser_return_games_played  loser_return_points_won  \\\n",
       "0                         15                       31   \n",
       "1                         13                       24   \n",
       "2                         10                       13   \n",
       "3                         11                       26   \n",
       "4                         14                       29   \n",
       "\n",
       "   loser_return_points_total  loser_total_points_won  loser_total_points_total  \n",
       "0                         97                      84                       181  \n",
       "1                         77                      69                       146  \n",
       "2                         58                      53                       119  \n",
       "3                         77                      63                       138  \n",
       "4                         94                      82                       176  \n",
       "\n",
       "[5 rows x 53 columns]"
      ]
     },
     "execution_count": 34,
     "metadata": {},
     "output_type": "execute_result"
    }
   ],
   "source": [
    "match_stats.head()"
   ]
  },
  {
   "cell_type": "code",
   "execution_count": 36,
   "metadata": {
    "ExecuteTime": {
     "end_time": "2020-03-06T18:22:55.762337Z",
     "start_time": "2020-03-06T18:22:55.753358Z"
    }
   },
   "outputs": [
    {
     "data": {
      "text/plain": [
       "tourney_order                                                           0\n",
       "match_id                                               2017-339-r975-n409\n",
       "match_stats_url_suffix              /en/scores/2017/339/MS004/match-stats\n",
       "match_time                                                       02:21:00\n",
       "match_duration                                                        141\n",
       "winner_aces                                                            23\n",
       "winner_double_faults                                                    3\n",
       "winner_first_serves_in                                                 62\n",
       "winner_first_serves_total                                              97\n",
       "winner_first_serve_points_won                                          50\n",
       "winner_first_serve_points_total                                        62\n",
       "winner_second_serve_points_won                                         16\n",
       "winner_second_serve_points_total                                       35\n",
       "winner_break_points_saved                                               6\n",
       "winner_break_points_serve_total                                         7\n",
       "winner_service_points_won                                              66\n",
       "winner_service_points_total                                            97\n",
       "winner_first_serve_return_won                                          22\n",
       "winner_first_serve_return_total                                        61\n",
       "winner_second_serve_return_won                                          9\n",
       "winner_second_serve_return_total                                       23\n",
       "winner_break_points_converted                                           2\n",
       "winner_break_points_return_total                                        4\n",
       "winner_service_games_played                                            15\n",
       "winner_return_games_played                                             14\n",
       "winner_return_points_won                                               31\n",
       "winner_return_points_total                                             84\n",
       "winner_total_points_won                                                97\n",
       "winner_total_points_total                                             181\n",
       "loser_aces                                                              4\n",
       "loser_double_faults                                                     0\n",
       "loser_first_serves_in                                                  61\n",
       "loser_first_serves_total                                               84\n",
       "loser_first_serve_points_won                                           39\n",
       "loser_first_serve_points_total                                         61\n",
       "loser_second_serve_points_won                                          14\n",
       "loser_second_serve_points_total                                        23\n",
       "loser_break_points_saved                                                2\n",
       "loser_break_points_serve_total                                          4\n",
       "loser_service_points_won                                               53\n",
       "loser_service_points_total                                             84\n",
       "loser_first_serve_return_won                                           12\n",
       "loser_first_serve_return_total                                         62\n",
       "loser_second_serve_return_won                                          19\n",
       "loser_second_serve_return_total                                        35\n",
       "loser_break_points_converted                                            1\n",
       "loser_break_points_return_total                                         7\n",
       "loser_service_games_played                                             14\n",
       "loser_return_games_played                                              15\n",
       "loser_return_points_won                                                31\n",
       "loser_return_points_total                                              97\n",
       "loser_total_points_won                                                 84\n",
       "loser_total_points_total                                              181\n",
       "Name: 0, dtype: object"
      ]
     },
     "execution_count": 36,
     "metadata": {},
     "output_type": "execute_result"
    }
   ],
   "source": [
    "match_stats.loc[0]"
   ]
  },
  {
   "cell_type": "code",
   "execution_count": 44,
   "metadata": {
    "ExecuteTime": {
     "end_time": "2020-03-06T18:40:14.820835Z",
     "start_time": "2020-03-06T18:40:14.795902Z"
    }
   },
   "outputs": [
    {
     "data": {
      "text/html": [
       "<div>\n",
       "<style scoped>\n",
       "    .dataframe tbody tr th:only-of-type {\n",
       "        vertical-align: middle;\n",
       "    }\n",
       "\n",
       "    .dataframe tbody tr th {\n",
       "        vertical-align: top;\n",
       "    }\n",
       "\n",
       "    .dataframe thead th {\n",
       "        text-align: right;\n",
       "    }\n",
       "</style>\n",
       "<table border=\"1\" class=\"dataframe\">\n",
       "  <thead>\n",
       "    <tr style=\"text-align: right;\">\n",
       "      <th></th>\n",
       "      <th>tourney_order</th>\n",
       "      <th>match_id</th>\n",
       "      <th>match_stats_url_suffix</th>\n",
       "      <th>match_time</th>\n",
       "      <th>match_duration</th>\n",
       "      <th>winner_aces</th>\n",
       "      <th>winner_double_faults</th>\n",
       "      <th>winner_first_serves_in</th>\n",
       "      <th>winner_first_serves_total</th>\n",
       "      <th>winner_first_serve_points_won</th>\n",
       "      <th>...</th>\n",
       "      <th>loser_second_serve_return_won</th>\n",
       "      <th>loser_second_serve_return_total</th>\n",
       "      <th>loser_break_points_converted</th>\n",
       "      <th>loser_break_points_return_total</th>\n",
       "      <th>loser_service_games_played</th>\n",
       "      <th>loser_return_games_played</th>\n",
       "      <th>loser_return_points_won</th>\n",
       "      <th>loser_return_points_total</th>\n",
       "      <th>loser_total_points_won</th>\n",
       "      <th>loser_total_points_total</th>\n",
       "    </tr>\n",
       "  </thead>\n",
       "  <tbody>\n",
       "    <tr>\n",
       "      <td>15</td>\n",
       "      <td>0</td>\n",
       "      <td>2017-339-n409-d801</td>\n",
       "      <td>/en/scores/2017/339/MS019/match-stats</td>\n",
       "      <td>01:15:00</td>\n",
       "      <td>75</td>\n",
       "      <td>2</td>\n",
       "      <td>1</td>\n",
       "      <td>36</td>\n",
       "      <td>52</td>\n",
       "      <td>26</td>\n",
       "      <td>...</td>\n",
       "      <td>6</td>\n",
       "      <td>16</td>\n",
       "      <td>1</td>\n",
       "      <td>3</td>\n",
       "      <td>9</td>\n",
       "      <td>9</td>\n",
       "      <td>16</td>\n",
       "      <td>52</td>\n",
       "      <td>43</td>\n",
       "      <td>105</td>\n",
       "    </tr>\n",
       "  </tbody>\n",
       "</table>\n",
       "<p>1 rows × 53 columns</p>\n",
       "</div>"
      ],
      "text/plain": [
       "    tourney_order            match_id                 match_stats_url_suffix  \\\n",
       "15              0  2017-339-n409-d801  /en/scores/2017/339/MS019/match-stats   \n",
       "\n",
       "   match_time  match_duration  winner_aces  winner_double_faults  \\\n",
       "15   01:15:00              75            2                     1   \n",
       "\n",
       "    winner_first_serves_in  winner_first_serves_total  \\\n",
       "15                      36                         52   \n",
       "\n",
       "    winner_first_serve_points_won  ...  loser_second_serve_return_won  \\\n",
       "15                             26  ...                              6   \n",
       "\n",
       "    loser_second_serve_return_total  loser_break_points_converted  \\\n",
       "15                               16                             1   \n",
       "\n",
       "    loser_break_points_return_total  loser_service_games_played  \\\n",
       "15                                3                           9   \n",
       "\n",
       "    loser_return_games_played  loser_return_points_won  \\\n",
       "15                          9                       16   \n",
       "\n",
       "    loser_return_points_total  loser_total_points_won  \\\n",
       "15                         52                      43   \n",
       "\n",
       "    loser_total_points_total  \n",
       "15                       105  \n",
       "\n",
       "[1 rows x 53 columns]"
      ]
     },
     "execution_count": 44,
     "metadata": {},
     "output_type": "execute_result"
    }
   ],
   "source": [
    "match_stats[match_stats['match_id']== '2017-339-n409-d801']"
   ]
  },
  {
   "cell_type": "code",
   "execution_count": null,
   "metadata": {},
   "outputs": [],
   "source": []
  }
 ],
 "metadata": {
  "kernelspec": {
   "display_name": "Python 3",
   "language": "python",
   "name": "python3"
  },
  "language_info": {
   "codemirror_mode": {
    "name": "ipython",
    "version": 3
   },
   "file_extension": ".py",
   "mimetype": "text/x-python",
   "name": "python",
   "nbconvert_exporter": "python",
   "pygments_lexer": "ipython3",
   "version": "3.7.4"
  },
  "varInspector": {
   "cols": {
    "lenName": 16,
    "lenType": 16,
    "lenVar": 40
   },
   "kernels_config": {
    "python": {
     "delete_cmd_postfix": "",
     "delete_cmd_prefix": "del ",
     "library": "var_list.py",
     "varRefreshCmd": "print(var_dic_list())"
    },
    "r": {
     "delete_cmd_postfix": ") ",
     "delete_cmd_prefix": "rm(",
     "library": "var_list.r",
     "varRefreshCmd": "cat(var_dic_list()) "
    }
   },
   "types_to_exclude": [
    "module",
    "function",
    "builtin_function_or_method",
    "instance",
    "_Feature"
   ],
   "window_display": false
  }
 },
 "nbformat": 4,
 "nbformat_minor": 2
}
